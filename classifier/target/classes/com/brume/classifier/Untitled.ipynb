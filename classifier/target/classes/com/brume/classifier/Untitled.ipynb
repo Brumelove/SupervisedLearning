{
 "cells": [
  {
   "cell_type": "code",
   "execution_count": 5,
   "metadata": {},
   "outputs": [],
   "source": [
    "public class LinearRegressionClassifier {\n",
    "\n",
    "    private ArrayList<Float> Xdata;\n",
    "    private ArrayList<Float> YData;\n",
    "    private Float result1;\n",
    "    private Float result2;\n",
    "\n",
    "    public LinearRegressionClassifier (ArrayList xdata, ArrayList YData) {\n",
    "        Xdata = data/train.csv;\n",
    "        this.YData = data/test.csv;\n",
    "    }\n",
    "\n",
    "    public Float predictValue ( Float inputValue ) {\n",
    "        Float X1 = Xdata.get( 0 ) ;\n",
    "        Float Y1 = YData.get( 0 ) ;\n",
    "        Float Xmean = getXMean( Xdata ) ;\n",
    "        Float Ymean = getYMean( YData ) ;\n",
    "        Float lineSlope = getLineSlope( Xmean , Ymean , X1 , Y1 ) ;\n",
    "        Float YIntercept = getYIntercept( Xmean , Ymean , lineSlope ) ;\n",
    "        Float prediction = ( lineSlope * inputValue ) + YIntercept ;\n",
    "        return prediction ;\n",
    "    }\n",
    "\n",
    "    public Float getLineSlope (Float Xmean, Float Ymean, Float X1, Float Y1) {\n",
    "        float num1 = X1 - Xmean;\n",
    "        float num2 = Y1 - Ymean;\n",
    "        float denom = (X1 - Xmean) * (X1 - Xmean);\n",
    "        return (num1 * num2) / denom;\n",
    "    }\n",
    "\n",
    "    public float getYIntercept (Float Xmean, Float Ymean, Float lineSlope) {\n",
    "        return Ymean - (lineSlope * Xmean);\n",
    "    }\n",
    "\n",
    "    public Float getXMean (ArrayList<Float> Xdata) {\n",
    "        result1 = 0.0f ;\n",
    "        for (Integer i = 0; i < Xdata.size(); i++) {\n",
    "            result1 = result1 + Xdata.get(i);\n",
    "        }\n",
    "        return result1;\n",
    "    }\n",
    "\n",
    "    public Float getYMean (ArrayList<Float> Ydata) {\n",
    "        result2 = 0.0f ;\n",
    "        for (Integer i = 0; i < Ydata.size(); i++) {\n",
    "            result2 = result2 + Ydata.get(i);\n",
    "        }\n",
    "        return result2;\n",
    "    }\n",
    "\n",
    "\n",
    "}"
   ]
  },
  {
   "cell_type": "code",
   "execution_count": null,
   "metadata": {},
   "outputs": [],
   "source": []
  }
 ],
 "metadata": {
  "kernelspec": {
   "display_name": "Java",
   "language": "java",
   "name": "java"
  },
  "language_info": {
   "codemirror_mode": "java",
   "file_extension": ".java",
   "mimetype": "text/x-java-source",
   "name": "Java",
   "pygments_lexer": "java",
   "version": "11.0.2+9-Debian-3"
  }
 },
 "nbformat": 4,
 "nbformat_minor": 2
}
